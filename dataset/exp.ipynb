{
 "cells": [
  {
   "cell_type": "code",
   "execution_count": 14,
   "metadata": {},
   "outputs": [],
   "source": [
    "import pandas as pd\n",
    "import os\n",
    "import numpy as np"
   ]
  },
  {
   "cell_type": "code",
   "execution_count": 8,
   "metadata": {},
   "outputs": [
    {
     "data": {
      "text/html": [
       "<div>\n",
       "<style scoped>\n",
       "    .dataframe tbody tr th:only-of-type {\n",
       "        vertical-align: middle;\n",
       "    }\n",
       "\n",
       "    .dataframe tbody tr th {\n",
       "        vertical-align: top;\n",
       "    }\n",
       "\n",
       "    .dataframe thead th {\n",
       "        text-align: right;\n",
       "    }\n",
       "</style>\n",
       "<table border=\"1\" class=\"dataframe\">\n",
       "  <thead>\n",
       "    <tr style=\"text-align: right;\">\n",
       "      <th></th>\n",
       "      <th>acc_1</th>\n",
       "      <th>acc_2</th>\n",
       "      <th>acc_3</th>\n",
       "    </tr>\n",
       "  </thead>\n",
       "  <tbody>\n",
       "    <tr>\n",
       "      <th>0</th>\n",
       "      <td>0.918056</td>\n",
       "      <td>-0.112500</td>\n",
       "      <td>0.509722</td>\n",
       "    </tr>\n",
       "    <tr>\n",
       "      <th>1</th>\n",
       "      <td>0.911111</td>\n",
       "      <td>-0.093056</td>\n",
       "      <td>0.537500</td>\n",
       "    </tr>\n",
       "    <tr>\n",
       "      <th>2</th>\n",
       "      <td>0.881944</td>\n",
       "      <td>-0.086111</td>\n",
       "      <td>0.513889</td>\n",
       "    </tr>\n",
       "    <tr>\n",
       "      <th>3</th>\n",
       "      <td>0.881944</td>\n",
       "      <td>-0.086111</td>\n",
       "      <td>0.513889</td>\n",
       "    </tr>\n",
       "    <tr>\n",
       "      <th>4</th>\n",
       "      <td>0.879167</td>\n",
       "      <td>-0.100000</td>\n",
       "      <td>0.505556</td>\n",
       "    </tr>\n",
       "    <tr>\n",
       "      <th>...</th>\n",
       "      <td>...</td>\n",
       "      <td>...</td>\n",
       "      <td>...</td>\n",
       "    </tr>\n",
       "    <tr>\n",
       "      <th>20593</th>\n",
       "      <td>-0.069444</td>\n",
       "      <td>0.531944</td>\n",
       "      <td>0.806944</td>\n",
       "    </tr>\n",
       "    <tr>\n",
       "      <th>20594</th>\n",
       "      <td>-0.061111</td>\n",
       "      <td>0.519444</td>\n",
       "      <td>0.919444</td>\n",
       "    </tr>\n",
       "    <tr>\n",
       "      <th>20595</th>\n",
       "      <td>-0.051389</td>\n",
       "      <td>0.516667</td>\n",
       "      <td>0.956944</td>\n",
       "    </tr>\n",
       "    <tr>\n",
       "      <th>20596</th>\n",
       "      <td>-0.061111</td>\n",
       "      <td>0.525000</td>\n",
       "      <td>0.956944</td>\n",
       "    </tr>\n",
       "    <tr>\n",
       "      <th>20597</th>\n",
       "      <td>-0.048611</td>\n",
       "      <td>0.544444</td>\n",
       "      <td>0.947222</td>\n",
       "    </tr>\n",
       "  </tbody>\n",
       "</table>\n",
       "<p>20598 rows × 3 columns</p>\n",
       "</div>"
      ],
      "text/plain": [
       "          acc_1     acc_2     acc_3\n",
       "0      0.918056 -0.112500  0.509722\n",
       "1      0.911111 -0.093056  0.537500\n",
       "2      0.881944 -0.086111  0.513889\n",
       "3      0.881944 -0.086111  0.513889\n",
       "4      0.879167 -0.100000  0.505556\n",
       "...         ...       ...       ...\n",
       "20593 -0.069444  0.531944  0.806944\n",
       "20594 -0.061111  0.519444  0.919444\n",
       "20595 -0.051389  0.516667  0.956944\n",
       "20596 -0.061111  0.525000  0.956944\n",
       "20597 -0.048611  0.544444  0.947222\n",
       "\n",
       "[20598 rows x 3 columns]"
      ]
     },
     "execution_count": 8,
     "metadata": {},
     "output_type": "execute_result"
    }
   ],
   "source": [
    "column_names = [f'acc_{i}' for i in range(1, 4)]\n",
    "acc = pd.read_csv('RawData/acc_exp01_user01.txt', sep = \" \", header= None, names= column_names)\n",
    "acc"
   ]
  },
  {
   "cell_type": "code",
   "execution_count": 10,
   "metadata": {},
   "outputs": [
    {
     "data": {
      "text/html": [
       "<div>\n",
       "<style scoped>\n",
       "    .dataframe tbody tr th:only-of-type {\n",
       "        vertical-align: middle;\n",
       "    }\n",
       "\n",
       "    .dataframe tbody tr th {\n",
       "        vertical-align: top;\n",
       "    }\n",
       "\n",
       "    .dataframe thead th {\n",
       "        text-align: right;\n",
       "    }\n",
       "</style>\n",
       "<table border=\"1\" class=\"dataframe\">\n",
       "  <thead>\n",
       "    <tr style=\"text-align: right;\">\n",
       "      <th></th>\n",
       "      <th>exp</th>\n",
       "      <th>user</th>\n",
       "      <th>label</th>\n",
       "      <th>start</th>\n",
       "      <th>end</th>\n",
       "    </tr>\n",
       "  </thead>\n",
       "  <tbody>\n",
       "    <tr>\n",
       "      <th>0</th>\n",
       "      <td>1</td>\n",
       "      <td>1</td>\n",
       "      <td>5</td>\n",
       "      <td>250</td>\n",
       "      <td>1232</td>\n",
       "    </tr>\n",
       "    <tr>\n",
       "      <th>1</th>\n",
       "      <td>1</td>\n",
       "      <td>1</td>\n",
       "      <td>7</td>\n",
       "      <td>1233</td>\n",
       "      <td>1392</td>\n",
       "    </tr>\n",
       "    <tr>\n",
       "      <th>2</th>\n",
       "      <td>1</td>\n",
       "      <td>1</td>\n",
       "      <td>4</td>\n",
       "      <td>1393</td>\n",
       "      <td>2194</td>\n",
       "    </tr>\n",
       "    <tr>\n",
       "      <th>3</th>\n",
       "      <td>1</td>\n",
       "      <td>1</td>\n",
       "      <td>8</td>\n",
       "      <td>2195</td>\n",
       "      <td>2359</td>\n",
       "    </tr>\n",
       "    <tr>\n",
       "      <th>4</th>\n",
       "      <td>1</td>\n",
       "      <td>1</td>\n",
       "      <td>5</td>\n",
       "      <td>2360</td>\n",
       "      <td>3374</td>\n",
       "    </tr>\n",
       "    <tr>\n",
       "      <th>...</th>\n",
       "      <td>...</td>\n",
       "      <td>...</td>\n",
       "      <td>...</td>\n",
       "      <td>...</td>\n",
       "      <td>...</td>\n",
       "    </tr>\n",
       "    <tr>\n",
       "      <th>1209</th>\n",
       "      <td>61</td>\n",
       "      <td>30</td>\n",
       "      <td>2</td>\n",
       "      <td>13842</td>\n",
       "      <td>14574</td>\n",
       "    </tr>\n",
       "    <tr>\n",
       "      <th>1210</th>\n",
       "      <td>61</td>\n",
       "      <td>30</td>\n",
       "      <td>3</td>\n",
       "      <td>14751</td>\n",
       "      <td>15427</td>\n",
       "    </tr>\n",
       "    <tr>\n",
       "      <th>1211</th>\n",
       "      <td>61</td>\n",
       "      <td>30</td>\n",
       "      <td>2</td>\n",
       "      <td>15588</td>\n",
       "      <td>16319</td>\n",
       "    </tr>\n",
       "    <tr>\n",
       "      <th>1212</th>\n",
       "      <td>61</td>\n",
       "      <td>30</td>\n",
       "      <td>3</td>\n",
       "      <td>16546</td>\n",
       "      <td>17250</td>\n",
       "    </tr>\n",
       "    <tr>\n",
       "      <th>1213</th>\n",
       "      <td>61</td>\n",
       "      <td>30</td>\n",
       "      <td>2</td>\n",
       "      <td>17394</td>\n",
       "      <td>18097</td>\n",
       "    </tr>\n",
       "  </tbody>\n",
       "</table>\n",
       "<p>1214 rows × 5 columns</p>\n",
       "</div>"
      ],
      "text/plain": [
       "      exp  user  label  start    end\n",
       "0       1     1      5    250   1232\n",
       "1       1     1      7   1233   1392\n",
       "2       1     1      4   1393   2194\n",
       "3       1     1      8   2195   2359\n",
       "4       1     1      5   2360   3374\n",
       "...   ...   ...    ...    ...    ...\n",
       "1209   61    30      2  13842  14574\n",
       "1210   61    30      3  14751  15427\n",
       "1211   61    30      2  15588  16319\n",
       "1212   61    30      3  16546  17250\n",
       "1213   61    30      2  17394  18097\n",
       "\n",
       "[1214 rows x 5 columns]"
      ]
     },
     "execution_count": 10,
     "metadata": {},
     "output_type": "execute_result"
    }
   ],
   "source": [
    "col_names = ['exp', 'user', 'label', 'start', 'end']\n",
    "file_infos = pd.read_csv('RawData/labels.txt', sep=' ', header=None, names=col_names)\n",
    "file_infos"
   ]
  },
  {
   "cell_type": "markdown",
   "metadata": {},
   "source": [
    "# Splitt into Train and Test Data"
   ]
  },
  {
   "cell_type": "code",
   "execution_count": 47,
   "metadata": {},
   "outputs": [
    {
     "ename": "TypeError",
     "evalue": "object of type 'numpy.int64' has no len()",
     "output_type": "error",
     "traceback": [
      "\u001b[1;31m---------------------------------------------------------------------------\u001b[0m",
      "\u001b[1;31mTypeError\u001b[0m                                 Traceback (most recent call last)",
      "\u001b[1;32me:\\strive_school\\work\\CHALLENGE\\Chap3\\Activities-and-Postural-Transitions\\dataset\\exp.ipynb Cell 5'\u001b[0m in \u001b[0;36m<cell line: 7>\u001b[1;34m()\u001b[0m\n\u001b[0;32m      <a href='vscode-notebook-cell:/e%3A/strive_school/work/CHALLENGE/Chap3/Activities-and-Postural-Transitions/dataset/exp.ipynb#ch0000004?line=5'>6</a>\u001b[0m train_users, test_users\n\u001b[0;32m      <a href='vscode-notebook-cell:/e%3A/strive_school/work/CHALLENGE/Chap3/Activities-and-Postural-Transitions/dataset/exp.ipynb#ch0000004?line=6'>7</a>\u001b[0m \u001b[39mfor\u001b[39;00m i \u001b[39min\u001b[39;00m train_users:\n\u001b[1;32m----> <a href='vscode-notebook-cell:/e%3A/strive_school/work/CHALLENGE/Chap3/Activities-and-Postural-Transitions/dataset/exp.ipynb#ch0000004?line=7'>8</a>\u001b[0m     \u001b[39mprint\u001b[39m(\u001b[39mlen\u001b[39;49m(i))\n",
      "\u001b[1;31mTypeError\u001b[0m: object of type 'numpy.int64' has no len()"
     ]
    }
   ],
   "source": [
    "train_size = 0.7\n",
    "users = file_infos['user'].unique()\n",
    "np.random.shuffle(users)\n",
    "train_users = users[:int(len(users)*0.7)]\n",
    "test_users = users[int(len(users)*0.7):]\n",
    "train_users, test_users"
   ]
  },
  {
   "cell_type": "code",
   "execution_count": 58,
   "metadata": {},
   "outputs": [
    {
     "data": {
      "text/plain": [
       "'user10.txt'"
      ]
     },
     "execution_count": 58,
     "metadata": {},
     "output_type": "execute_result"
    }
   ],
   "source": [
    "rawdata = 'RawData'\n",
    "file_name = os.listdir(rawdata)[19]\n",
    "file_name.split('_')[-1]"
   ]
  },
  {
   "cell_type": "code",
   "execution_count": 52,
   "metadata": {},
   "outputs": [
    {
     "data": {
      "text/plain": [
       "True"
      ]
     },
     "execution_count": 52,
     "metadata": {},
     "output_type": "execute_result"
    }
   ],
   "source": [
    "file_name.endswith(f'user{10}.txt') or file_name.endswith(f'user0{10}.txt')"
   ]
  },
  {
   "cell_type": "code",
   "execution_count": 59,
   "metadata": {},
   "outputs": [
    {
     "data": {
      "text/plain": [
       "['acc_exp01_user01.txt',\n",
       " 'acc_exp02_user01.txt',\n",
       " 'acc_exp03_user02.txt',\n",
       " 'acc_exp04_user02.txt',\n",
       " 'acc_exp05_user03.txt',\n",
       " 'acc_exp06_user03.txt',\n",
       " 'acc_exp07_user04.txt',\n",
       " 'acc_exp08_user04.txt',\n",
       " 'acc_exp09_user05.txt',\n",
       " 'acc_exp10_user05.txt',\n",
       " 'acc_exp11_user06.txt',\n",
       " 'acc_exp12_user06.txt',\n",
       " 'acc_exp13_user07.txt',\n",
       " 'acc_exp14_user07.txt',\n",
       " 'acc_exp15_user08.txt',\n",
       " 'acc_exp16_user08.txt',\n",
       " 'acc_exp17_user09.txt',\n",
       " 'acc_exp18_user09.txt',\n",
       " 'acc_exp19_user10.txt',\n",
       " 'acc_exp20_user10.txt',\n",
       " 'acc_exp21_user10.txt',\n",
       " 'acc_exp22_user11.txt',\n",
       " 'acc_exp23_user11.txt',\n",
       " 'acc_exp24_user12.txt',\n",
       " 'acc_exp25_user12.txt',\n",
       " 'acc_exp26_user13.txt',\n",
       " 'acc_exp27_user13.txt',\n",
       " 'acc_exp28_user14.txt',\n",
       " 'acc_exp29_user14.txt',\n",
       " 'acc_exp30_user15.txt',\n",
       " 'acc_exp31_user15.txt',\n",
       " 'acc_exp32_user16.txt',\n",
       " 'acc_exp33_user16.txt',\n",
       " 'acc_exp34_user17.txt',\n",
       " 'acc_exp35_user17.txt',\n",
       " 'acc_exp36_user18.txt',\n",
       " 'acc_exp37_user18.txt',\n",
       " 'acc_exp38_user19.txt',\n",
       " 'acc_exp39_user19.txt',\n",
       " 'acc_exp40_user20.txt',\n",
       " 'acc_exp41_user20.txt',\n",
       " 'acc_exp42_user21.txt',\n",
       " 'acc_exp43_user21.txt',\n",
       " 'acc_exp44_user22.txt',\n",
       " 'acc_exp45_user22.txt',\n",
       " 'acc_exp46_user23.txt',\n",
       " 'acc_exp47_user23.txt',\n",
       " 'acc_exp48_user24.txt',\n",
       " 'acc_exp49_user24.txt',\n",
       " 'acc_exp50_user25.txt',\n",
       " 'acc_exp51_user25.txt',\n",
       " 'acc_exp52_user26.txt',\n",
       " 'acc_exp53_user26.txt',\n",
       " 'acc_exp54_user27.txt',\n",
       " 'acc_exp55_user27.txt',\n",
       " 'acc_exp56_user28.txt',\n",
       " 'acc_exp57_user28.txt',\n",
       " 'acc_exp58_user29.txt',\n",
       " 'acc_exp59_user29.txt',\n",
       " 'acc_exp60_user30.txt',\n",
       " 'acc_exp61_user30.txt',\n",
       " 'gyro_exp01_user01.txt',\n",
       " 'gyro_exp02_user01.txt',\n",
       " 'gyro_exp03_user02.txt',\n",
       " 'gyro_exp04_user02.txt',\n",
       " 'gyro_exp05_user03.txt',\n",
       " 'gyro_exp06_user03.txt',\n",
       " 'gyro_exp07_user04.txt',\n",
       " 'gyro_exp08_user04.txt',\n",
       " 'gyro_exp09_user05.txt',\n",
       " 'gyro_exp10_user05.txt',\n",
       " 'gyro_exp11_user06.txt',\n",
       " 'gyro_exp12_user06.txt',\n",
       " 'gyro_exp13_user07.txt',\n",
       " 'gyro_exp14_user07.txt',\n",
       " 'gyro_exp15_user08.txt',\n",
       " 'gyro_exp16_user08.txt',\n",
       " 'gyro_exp17_user09.txt',\n",
       " 'gyro_exp18_user09.txt',\n",
       " 'gyro_exp19_user10.txt',\n",
       " 'gyro_exp20_user10.txt',\n",
       " 'gyro_exp21_user10.txt',\n",
       " 'gyro_exp22_user11.txt',\n",
       " 'gyro_exp23_user11.txt',\n",
       " 'gyro_exp24_user12.txt',\n",
       " 'gyro_exp25_user12.txt',\n",
       " 'gyro_exp26_user13.txt',\n",
       " 'gyro_exp27_user13.txt',\n",
       " 'gyro_exp28_user14.txt',\n",
       " 'gyro_exp29_user14.txt',\n",
       " 'gyro_exp30_user15.txt',\n",
       " 'gyro_exp31_user15.txt',\n",
       " 'gyro_exp32_user16.txt',\n",
       " 'gyro_exp33_user16.txt',\n",
       " 'gyro_exp34_user17.txt',\n",
       " 'gyro_exp35_user17.txt',\n",
       " 'gyro_exp36_user18.txt',\n",
       " 'gyro_exp37_user18.txt',\n",
       " 'gyro_exp38_user19.txt',\n",
       " 'gyro_exp39_user19.txt',\n",
       " 'gyro_exp40_user20.txt',\n",
       " 'gyro_exp41_user20.txt',\n",
       " 'gyro_exp42_user21.txt',\n",
       " 'gyro_exp43_user21.txt',\n",
       " 'gyro_exp44_user22.txt',\n",
       " 'gyro_exp45_user22.txt',\n",
       " 'gyro_exp46_user23.txt',\n",
       " 'gyro_exp47_user23.txt',\n",
       " 'gyro_exp48_user24.txt',\n",
       " 'gyro_exp49_user24.txt',\n",
       " 'gyro_exp50_user25.txt',\n",
       " 'gyro_exp51_user25.txt',\n",
       " 'gyro_exp52_user26.txt',\n",
       " 'gyro_exp53_user26.txt',\n",
       " 'gyro_exp54_user27.txt',\n",
       " 'gyro_exp55_user27.txt',\n",
       " 'gyro_exp56_user28.txt',\n",
       " 'gyro_exp57_user28.txt',\n",
       " 'gyro_exp58_user29.txt',\n",
       " 'gyro_exp59_user29.txt',\n",
       " 'gyro_exp60_user30.txt',\n",
       " 'gyro_exp61_user30.txt',\n",
       " 'labels.txt']"
      ]
     },
     "execution_count": 59,
     "metadata": {},
     "output_type": "execute_result"
    }
   ],
   "source": [
    "os.listdir('RawData')"
   ]
  },
  {
   "cell_type": "markdown",
   "metadata": {},
   "source": [
    "Sample Data user 1"
   ]
  },
  {
   "cell_type": "code",
   "execution_count": 69,
   "metadata": {},
   "outputs": [
    {
     "data": {
      "text/html": [
       "<div>\n",
       "<style scoped>\n",
       "    .dataframe tbody tr th:only-of-type {\n",
       "        vertical-align: middle;\n",
       "    }\n",
       "\n",
       "    .dataframe tbody tr th {\n",
       "        vertical-align: top;\n",
       "    }\n",
       "\n",
       "    .dataframe thead th {\n",
       "        text-align: right;\n",
       "    }\n",
       "</style>\n",
       "<table border=\"1\" class=\"dataframe\">\n",
       "  <thead>\n",
       "    <tr style=\"text-align: right;\">\n",
       "      <th></th>\n",
       "      <th>exp</th>\n",
       "      <th>user</th>\n",
       "      <th>label</th>\n",
       "      <th>start</th>\n",
       "      <th>end</th>\n",
       "    </tr>\n",
       "  </thead>\n",
       "  <tbody>\n",
       "    <tr>\n",
       "      <th>0</th>\n",
       "      <td>1</td>\n",
       "      <td>1</td>\n",
       "      <td>5</td>\n",
       "      <td>250</td>\n",
       "      <td>1232</td>\n",
       "    </tr>\n",
       "    <tr>\n",
       "      <th>1</th>\n",
       "      <td>1</td>\n",
       "      <td>1</td>\n",
       "      <td>7</td>\n",
       "      <td>1233</td>\n",
       "      <td>1392</td>\n",
       "    </tr>\n",
       "    <tr>\n",
       "      <th>2</th>\n",
       "      <td>1</td>\n",
       "      <td>1</td>\n",
       "      <td>4</td>\n",
       "      <td>1393</td>\n",
       "      <td>2194</td>\n",
       "    </tr>\n",
       "    <tr>\n",
       "      <th>3</th>\n",
       "      <td>1</td>\n",
       "      <td>1</td>\n",
       "      <td>8</td>\n",
       "      <td>2195</td>\n",
       "      <td>2359</td>\n",
       "    </tr>\n",
       "    <tr>\n",
       "      <th>4</th>\n",
       "      <td>1</td>\n",
       "      <td>1</td>\n",
       "      <td>5</td>\n",
       "      <td>2360</td>\n",
       "      <td>3374</td>\n",
       "    </tr>\n",
       "    <tr>\n",
       "      <th>...</th>\n",
       "      <td>...</td>\n",
       "      <td>...</td>\n",
       "      <td>...</td>\n",
       "      <td>...</td>\n",
       "      <td>...</td>\n",
       "    </tr>\n",
       "    <tr>\n",
       "      <th>1209</th>\n",
       "      <td>61</td>\n",
       "      <td>30</td>\n",
       "      <td>2</td>\n",
       "      <td>13842</td>\n",
       "      <td>14574</td>\n",
       "    </tr>\n",
       "    <tr>\n",
       "      <th>1210</th>\n",
       "      <td>61</td>\n",
       "      <td>30</td>\n",
       "      <td>3</td>\n",
       "      <td>14751</td>\n",
       "      <td>15427</td>\n",
       "    </tr>\n",
       "    <tr>\n",
       "      <th>1211</th>\n",
       "      <td>61</td>\n",
       "      <td>30</td>\n",
       "      <td>2</td>\n",
       "      <td>15588</td>\n",
       "      <td>16319</td>\n",
       "    </tr>\n",
       "    <tr>\n",
       "      <th>1212</th>\n",
       "      <td>61</td>\n",
       "      <td>30</td>\n",
       "      <td>3</td>\n",
       "      <td>16546</td>\n",
       "      <td>17250</td>\n",
       "    </tr>\n",
       "    <tr>\n",
       "      <th>1213</th>\n",
       "      <td>61</td>\n",
       "      <td>30</td>\n",
       "      <td>2</td>\n",
       "      <td>17394</td>\n",
       "      <td>18097</td>\n",
       "    </tr>\n",
       "  </tbody>\n",
       "</table>\n",
       "<p>1214 rows × 5 columns</p>\n",
       "</div>"
      ],
      "text/plain": [
       "      exp  user  label  start    end\n",
       "0       1     1      5    250   1232\n",
       "1       1     1      7   1233   1392\n",
       "2       1     1      4   1393   2194\n",
       "3       1     1      8   2195   2359\n",
       "4       1     1      5   2360   3374\n",
       "...   ...   ...    ...    ...    ...\n",
       "1209   61    30      2  13842  14574\n",
       "1210   61    30      3  14751  15427\n",
       "1211   61    30      2  15588  16319\n",
       "1212   61    30      3  16546  17250\n",
       "1213   61    30      2  17394  18097\n",
       "\n",
       "[1214 rows x 5 columns]"
      ]
     },
     "execution_count": 69,
     "metadata": {},
     "output_type": "execute_result"
    }
   ],
   "source": [
    "file_infos"
   ]
  },
  {
   "cell_type": "code",
   "execution_count": 80,
   "metadata": {},
   "outputs": [
    {
     "data": {
      "text/html": [
       "<div>\n",
       "<style scoped>\n",
       "    .dataframe tbody tr th:only-of-type {\n",
       "        vertical-align: middle;\n",
       "    }\n",
       "\n",
       "    .dataframe tbody tr th {\n",
       "        vertical-align: top;\n",
       "    }\n",
       "\n",
       "    .dataframe thead th {\n",
       "        text-align: right;\n",
       "    }\n",
       "</style>\n",
       "<table border=\"1\" class=\"dataframe\">\n",
       "  <thead>\n",
       "    <tr style=\"text-align: right;\">\n",
       "      <th></th>\n",
       "      <th>0</th>\n",
       "      <th>1</th>\n",
       "      <th>2</th>\n",
       "    </tr>\n",
       "  </thead>\n",
       "  <tbody>\n",
       "    <tr>\n",
       "      <th>0</th>\n",
       "      <td>0.918056</td>\n",
       "      <td>-0.112500</td>\n",
       "      <td>0.509722</td>\n",
       "    </tr>\n",
       "    <tr>\n",
       "      <th>1</th>\n",
       "      <td>0.911111</td>\n",
       "      <td>-0.093056</td>\n",
       "      <td>0.537500</td>\n",
       "    </tr>\n",
       "    <tr>\n",
       "      <th>2</th>\n",
       "      <td>0.881944</td>\n",
       "      <td>-0.086111</td>\n",
       "      <td>0.513889</td>\n",
       "    </tr>\n",
       "    <tr>\n",
       "      <th>3</th>\n",
       "      <td>0.881944</td>\n",
       "      <td>-0.086111</td>\n",
       "      <td>0.513889</td>\n",
       "    </tr>\n",
       "    <tr>\n",
       "      <th>4</th>\n",
       "      <td>0.879167</td>\n",
       "      <td>-0.100000</td>\n",
       "      <td>0.505556</td>\n",
       "    </tr>\n",
       "    <tr>\n",
       "      <th>...</th>\n",
       "      <td>...</td>\n",
       "      <td>...</td>\n",
       "      <td>...</td>\n",
       "    </tr>\n",
       "    <tr>\n",
       "      <th>20593</th>\n",
       "      <td>-0.069444</td>\n",
       "      <td>0.531944</td>\n",
       "      <td>0.806944</td>\n",
       "    </tr>\n",
       "    <tr>\n",
       "      <th>20594</th>\n",
       "      <td>-0.061111</td>\n",
       "      <td>0.519444</td>\n",
       "      <td>0.919444</td>\n",
       "    </tr>\n",
       "    <tr>\n",
       "      <th>20595</th>\n",
       "      <td>-0.051389</td>\n",
       "      <td>0.516667</td>\n",
       "      <td>0.956944</td>\n",
       "    </tr>\n",
       "    <tr>\n",
       "      <th>20596</th>\n",
       "      <td>-0.061111</td>\n",
       "      <td>0.525000</td>\n",
       "      <td>0.956944</td>\n",
       "    </tr>\n",
       "    <tr>\n",
       "      <th>20597</th>\n",
       "      <td>-0.048611</td>\n",
       "      <td>0.544444</td>\n",
       "      <td>0.947222</td>\n",
       "    </tr>\n",
       "  </tbody>\n",
       "</table>\n",
       "<p>20598 rows × 3 columns</p>\n",
       "</div>"
      ],
      "text/plain": [
       "              0         1         2\n",
       "0      0.918056 -0.112500  0.509722\n",
       "1      0.911111 -0.093056  0.537500\n",
       "2      0.881944 -0.086111  0.513889\n",
       "3      0.881944 -0.086111  0.513889\n",
       "4      0.879167 -0.100000  0.505556\n",
       "...         ...       ...       ...\n",
       "20593 -0.069444  0.531944  0.806944\n",
       "20594 -0.061111  0.519444  0.919444\n",
       "20595 -0.051389  0.516667  0.956944\n",
       "20596 -0.061111  0.525000  0.956944\n",
       "20597 -0.048611  0.544444  0.947222\n",
       "\n",
       "[20598 rows x 3 columns]"
      ]
     },
     "execution_count": 80,
     "metadata": {},
     "output_type": "execute_result"
    }
   ],
   "source": [
    "\n",
    "file_name = os.listdir('train')[0]\n",
    "user = pd.read_csv(os.path.join('train', file_name), header=None, sep= ' ')\n",
    "user"
   ]
  },
  {
   "cell_type": "code",
   "execution_count": 76,
   "metadata": {},
   "outputs": [
    {
     "data": {
      "text/html": [
       "<div>\n",
       "<style scoped>\n",
       "    .dataframe tbody tr th:only-of-type {\n",
       "        vertical-align: middle;\n",
       "    }\n",
       "\n",
       "    .dataframe tbody tr th {\n",
       "        vertical-align: top;\n",
       "    }\n",
       "\n",
       "    .dataframe thead th {\n",
       "        text-align: right;\n",
       "    }\n",
       "</style>\n",
       "<table border=\"1\" class=\"dataframe\">\n",
       "  <thead>\n",
       "    <tr style=\"text-align: right;\">\n",
       "      <th></th>\n",
       "      <th>exp</th>\n",
       "      <th>user</th>\n",
       "      <th>label</th>\n",
       "      <th>start</th>\n",
       "      <th>end</th>\n",
       "    </tr>\n",
       "  </thead>\n",
       "  <tbody>\n",
       "    <tr>\n",
       "      <th>0</th>\n",
       "      <td>1</td>\n",
       "      <td>1</td>\n",
       "      <td>5</td>\n",
       "      <td>250</td>\n",
       "      <td>1232</td>\n",
       "    </tr>\n",
       "    <tr>\n",
       "      <th>1</th>\n",
       "      <td>1</td>\n",
       "      <td>1</td>\n",
       "      <td>7</td>\n",
       "      <td>1233</td>\n",
       "      <td>1392</td>\n",
       "    </tr>\n",
       "    <tr>\n",
       "      <th>2</th>\n",
       "      <td>1</td>\n",
       "      <td>1</td>\n",
       "      <td>4</td>\n",
       "      <td>1393</td>\n",
       "      <td>2194</td>\n",
       "    </tr>\n",
       "    <tr>\n",
       "      <th>3</th>\n",
       "      <td>1</td>\n",
       "      <td>1</td>\n",
       "      <td>8</td>\n",
       "      <td>2195</td>\n",
       "      <td>2359</td>\n",
       "    </tr>\n",
       "    <tr>\n",
       "      <th>4</th>\n",
       "      <td>1</td>\n",
       "      <td>1</td>\n",
       "      <td>5</td>\n",
       "      <td>2360</td>\n",
       "      <td>3374</td>\n",
       "    </tr>\n",
       "  </tbody>\n",
       "</table>\n",
       "</div>"
      ],
      "text/plain": [
       "   exp  user  label  start   end\n",
       "0    1     1      5    250  1232\n",
       "1    1     1      7   1233  1392\n",
       "2    1     1      4   1393  2194\n",
       "3    1     1      8   2195  2359\n",
       "4    1     1      5   2360  3374"
      ]
     },
     "execution_count": 76,
     "metadata": {},
     "output_type": "execute_result"
    }
   ],
   "source": [
    "exp1_user1 = file_infos[(file_infos['user'] == 1 ) & (file_infos['exp'] == 1)]\n",
    "exp1_user1.head()"
   ]
  },
  {
   "cell_type": "code",
   "execution_count": 90,
   "metadata": {},
   "outputs": [],
   "source": [
    "sequences = []\n",
    "labels = []\n",
    "for start, end, label in zip(exp1_user1['start'], exp1_user1['end'], exp1_user1['label']):\n",
    "    seq = user.iloc[start-1 : end - 1]\n",
    "    sequences.append(seq)\n",
    "    labels.append(label)"
   ]
  },
  {
   "cell_type": "code",
   "execution_count": 93,
   "metadata": {},
   "outputs": [
    {
     "data": {
      "text/plain": [
       "22"
      ]
     },
     "execution_count": 93,
     "metadata": {},
     "output_type": "execute_result"
    }
   ],
   "source": [
    "len(labels)"
   ]
  },
  {
   "cell_type": "markdown",
   "metadata": {},
   "source": [
    "extracting info from files"
   ]
  },
  {
   "cell_type": "code",
   "execution_count": 121,
   "metadata": {},
   "outputs": [
    {
     "data": {
      "text/plain": [
       "1"
      ]
     },
     "execution_count": 121,
     "metadata": {},
     "output_type": "execute_result"
    }
   ],
   "source": [
    "file_name = os.listdir('train')[0]\n",
    "exp_id = int(file_name.split('_')[1][3:])\n",
    "user_id = int(file_name.split('_')[-1][4:6])\n",
    "user_id"
   ]
  },
  {
   "cell_type": "code",
   "execution_count": 139,
   "metadata": {},
   "outputs": [],
   "source": [
    "sequences_acc = []\n",
    "labels_acc = []\n",
    "for file in os.listdir('train'):\n",
    "    if file.startswith('acc'):\n",
    "        exp_id = int(file.split('_')[1][3:])\n",
    "        user_id = int(file.split('_')[-1][4:6])\n",
    "        data = pd.read_csv(os.path.join('train', file), header=None, sep= ' ')\n",
    "\n",
    "        exp_user = file_infos[(file_infos['user'] == user_id ) & (file_infos['exp'] == exp_id)]\n",
    "\n",
    "        for start, end, label in zip(exp_user['start'], exp_user['end'], exp_user['label']):\n",
    "            seq = user.iloc[start-1 : end - 1]\n",
    "            sequences_acc.append(seq.values)\n",
    "            labels_acc.append(label)\n",
    "\n",
    "\n",
    "\n",
    "sequences_gyro = []\n",
    "labels_gyro = []\n",
    "for file in os.listdir('train'):\n",
    "    if file.startswith('gyro'):\n",
    "        exp_id = int(file.split('_')[1][3:])\n",
    "        user_id = int(file.split('_')[-1][4:6])\n",
    "        data = pd.read_csv(os.path.join('train', file), header=None, sep= ' ')\n",
    "\n",
    "        exp_user = file_infos[(file_infos['user'] == user_id ) & (file_infos['exp'] == exp_id)]\n",
    "\n",
    "        for start, end, label in zip(exp_user['start'], exp_user['end'], exp_user['label']):\n",
    "            seq = user.iloc[start-1 : end - 1]\n",
    "            sequences_gyro.append(seq.values)\n",
    "            labels_gyro.append(label)"
   ]
  },
  {
   "cell_type": "code",
   "execution_count": 161,
   "metadata": {},
   "outputs": [
    {
     "data": {
      "text/plain": [
       "((982, 3), (982, 3))"
      ]
     },
     "execution_count": 161,
     "metadata": {},
     "output_type": "execute_result"
    }
   ],
   "source": [
    "sequences_acc[0].shape, sequences_gyro[0].shape"
   ]
  },
  {
   "cell_type": "code",
   "execution_count": 150,
   "metadata": {},
   "outputs": [],
   "source": [
    "x_train = []\n",
    "for acc, gyro in zip(sequences_acc, sequences_gyro):\n",
    "    # print(acc.shape)\n",
    "    # print(gyro.shape)\n",
    "    x_train.append(np.concatenate((acc, gyro), axis=1))"
   ]
  },
  {
   "cell_type": "code",
   "execution_count": 169,
   "metadata": {},
   "outputs": [],
   "source": [
    "y_train = np.array(labels_acc)"
   ]
  },
  {
   "cell_type": "code",
   "execution_count": 162,
   "metadata": {},
   "outputs": [
    {
     "data": {
      "text/plain": [
       "(982, 6)"
      ]
     },
     "execution_count": 162,
     "metadata": {},
     "output_type": "execute_result"
    }
   ],
   "source": [
    "x_train[0].shape"
   ]
  },
  {
   "cell_type": "code",
   "execution_count": 168,
   "metadata": {},
   "outputs": [
    {
     "data": {
      "text/plain": [
       "853"
      ]
     },
     "execution_count": 168,
     "metadata": {},
     "output_type": "execute_result"
    }
   ],
   "source": [
    "len(x_train)"
   ]
  },
  {
   "cell_type": "code",
   "execution_count": 167,
   "metadata": {},
   "outputs": [
    {
     "data": {
      "text/plain": [
       "853"
      ]
     },
     "execution_count": 167,
     "metadata": {},
     "output_type": "execute_result"
    }
   ],
   "source": [
    "len(labels_acc)"
   ]
  }
 ],
 "metadata": {
  "kernelspec": {
   "display_name": "Python 3.8.13 ('strive')",
   "language": "python",
   "name": "python3"
  },
  "language_info": {
   "codemirror_mode": {
    "name": "ipython",
    "version": 3
   },
   "file_extension": ".py",
   "mimetype": "text/x-python",
   "name": "python",
   "nbconvert_exporter": "python",
   "pygments_lexer": "ipython3",
   "version": "3.8.13"
  },
  "orig_nbformat": 4,
  "vscode": {
   "interpreter": {
    "hash": "57b4146e8602cb0ff91512065bdb02700ac9f9d6ea9aa046f2e5f7c3a69675f8"
   }
  }
 },
 "nbformat": 4,
 "nbformat_minor": 2
}
