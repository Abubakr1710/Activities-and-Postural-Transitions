{
 "cells": [
  {
   "cell_type": "code",
   "execution_count": 1,
   "metadata": {},
   "outputs": [],
   "source": [
    "import pandas as pd\n",
    "import os\n",
    "import numpy as np"
   ]
  },
  {
   "cell_type": "code",
   "execution_count": 2,
   "metadata": {},
   "outputs": [
    {
     "data": {
      "text/html": [
       "<div>\n",
       "<style scoped>\n",
       "    .dataframe tbody tr th:only-of-type {\n",
       "        vertical-align: middle;\n",
       "    }\n",
       "\n",
       "    .dataframe tbody tr th {\n",
       "        vertical-align: top;\n",
       "    }\n",
       "\n",
       "    .dataframe thead th {\n",
       "        text-align: right;\n",
       "    }\n",
       "</style>\n",
       "<table border=\"1\" class=\"dataframe\">\n",
       "  <thead>\n",
       "    <tr style=\"text-align: right;\">\n",
       "      <th></th>\n",
       "      <th>acc_1</th>\n",
       "      <th>acc_2</th>\n",
       "      <th>acc_3</th>\n",
       "    </tr>\n",
       "  </thead>\n",
       "  <tbody>\n",
       "    <tr>\n",
       "      <th>0</th>\n",
       "      <td>0.918056</td>\n",
       "      <td>-0.112500</td>\n",
       "      <td>0.509722</td>\n",
       "    </tr>\n",
       "    <tr>\n",
       "      <th>1</th>\n",
       "      <td>0.911111</td>\n",
       "      <td>-0.093056</td>\n",
       "      <td>0.537500</td>\n",
       "    </tr>\n",
       "    <tr>\n",
       "      <th>2</th>\n",
       "      <td>0.881944</td>\n",
       "      <td>-0.086111</td>\n",
       "      <td>0.513889</td>\n",
       "    </tr>\n",
       "    <tr>\n",
       "      <th>3</th>\n",
       "      <td>0.881944</td>\n",
       "      <td>-0.086111</td>\n",
       "      <td>0.513889</td>\n",
       "    </tr>\n",
       "    <tr>\n",
       "      <th>4</th>\n",
       "      <td>0.879167</td>\n",
       "      <td>-0.100000</td>\n",
       "      <td>0.505556</td>\n",
       "    </tr>\n",
       "    <tr>\n",
       "      <th>...</th>\n",
       "      <td>...</td>\n",
       "      <td>...</td>\n",
       "      <td>...</td>\n",
       "    </tr>\n",
       "    <tr>\n",
       "      <th>20593</th>\n",
       "      <td>-0.069444</td>\n",
       "      <td>0.531944</td>\n",
       "      <td>0.806944</td>\n",
       "    </tr>\n",
       "    <tr>\n",
       "      <th>20594</th>\n",
       "      <td>-0.061111</td>\n",
       "      <td>0.519444</td>\n",
       "      <td>0.919444</td>\n",
       "    </tr>\n",
       "    <tr>\n",
       "      <th>20595</th>\n",
       "      <td>-0.051389</td>\n",
       "      <td>0.516667</td>\n",
       "      <td>0.956944</td>\n",
       "    </tr>\n",
       "    <tr>\n",
       "      <th>20596</th>\n",
       "      <td>-0.061111</td>\n",
       "      <td>0.525000</td>\n",
       "      <td>0.956944</td>\n",
       "    </tr>\n",
       "    <tr>\n",
       "      <th>20597</th>\n",
       "      <td>-0.048611</td>\n",
       "      <td>0.544444</td>\n",
       "      <td>0.947222</td>\n",
       "    </tr>\n",
       "  </tbody>\n",
       "</table>\n",
       "<p>20598 rows × 3 columns</p>\n",
       "</div>"
      ],
      "text/plain": [
       "          acc_1     acc_2     acc_3\n",
       "0      0.918056 -0.112500  0.509722\n",
       "1      0.911111 -0.093056  0.537500\n",
       "2      0.881944 -0.086111  0.513889\n",
       "3      0.881944 -0.086111  0.513889\n",
       "4      0.879167 -0.100000  0.505556\n",
       "...         ...       ...       ...\n",
       "20593 -0.069444  0.531944  0.806944\n",
       "20594 -0.061111  0.519444  0.919444\n",
       "20595 -0.051389  0.516667  0.956944\n",
       "20596 -0.061111  0.525000  0.956944\n",
       "20597 -0.048611  0.544444  0.947222\n",
       "\n",
       "[20598 rows x 3 columns]"
      ]
     },
     "execution_count": 2,
     "metadata": {},
     "output_type": "execute_result"
    }
   ],
   "source": [
    "column_names = [f'acc_{i}' for i in range(1, 4)]\n",
    "acc = pd.read_csv('RawData/acc_exp01_user01.txt', sep = \" \", header= None, names= column_names)\n",
    "acc"
   ]
  },
  {
   "cell_type": "code",
   "execution_count": 3,
   "metadata": {},
   "outputs": [
    {
     "data": {
      "text/html": [
       "<div>\n",
       "<style scoped>\n",
       "    .dataframe tbody tr th:only-of-type {\n",
       "        vertical-align: middle;\n",
       "    }\n",
       "\n",
       "    .dataframe tbody tr th {\n",
       "        vertical-align: top;\n",
       "    }\n",
       "\n",
       "    .dataframe thead th {\n",
       "        text-align: right;\n",
       "    }\n",
       "</style>\n",
       "<table border=\"1\" class=\"dataframe\">\n",
       "  <thead>\n",
       "    <tr style=\"text-align: right;\">\n",
       "      <th></th>\n",
       "      <th>exp</th>\n",
       "      <th>user</th>\n",
       "      <th>label</th>\n",
       "      <th>start</th>\n",
       "      <th>end</th>\n",
       "    </tr>\n",
       "  </thead>\n",
       "  <tbody>\n",
       "    <tr>\n",
       "      <th>0</th>\n",
       "      <td>1</td>\n",
       "      <td>1</td>\n",
       "      <td>5</td>\n",
       "      <td>250</td>\n",
       "      <td>1232</td>\n",
       "    </tr>\n",
       "    <tr>\n",
       "      <th>1</th>\n",
       "      <td>1</td>\n",
       "      <td>1</td>\n",
       "      <td>7</td>\n",
       "      <td>1233</td>\n",
       "      <td>1392</td>\n",
       "    </tr>\n",
       "    <tr>\n",
       "      <th>2</th>\n",
       "      <td>1</td>\n",
       "      <td>1</td>\n",
       "      <td>4</td>\n",
       "      <td>1393</td>\n",
       "      <td>2194</td>\n",
       "    </tr>\n",
       "    <tr>\n",
       "      <th>3</th>\n",
       "      <td>1</td>\n",
       "      <td>1</td>\n",
       "      <td>8</td>\n",
       "      <td>2195</td>\n",
       "      <td>2359</td>\n",
       "    </tr>\n",
       "    <tr>\n",
       "      <th>4</th>\n",
       "      <td>1</td>\n",
       "      <td>1</td>\n",
       "      <td>5</td>\n",
       "      <td>2360</td>\n",
       "      <td>3374</td>\n",
       "    </tr>\n",
       "    <tr>\n",
       "      <th>...</th>\n",
       "      <td>...</td>\n",
       "      <td>...</td>\n",
       "      <td>...</td>\n",
       "      <td>...</td>\n",
       "      <td>...</td>\n",
       "    </tr>\n",
       "    <tr>\n",
       "      <th>1209</th>\n",
       "      <td>61</td>\n",
       "      <td>30</td>\n",
       "      <td>2</td>\n",
       "      <td>13842</td>\n",
       "      <td>14574</td>\n",
       "    </tr>\n",
       "    <tr>\n",
       "      <th>1210</th>\n",
       "      <td>61</td>\n",
       "      <td>30</td>\n",
       "      <td>3</td>\n",
       "      <td>14751</td>\n",
       "      <td>15427</td>\n",
       "    </tr>\n",
       "    <tr>\n",
       "      <th>1211</th>\n",
       "      <td>61</td>\n",
       "      <td>30</td>\n",
       "      <td>2</td>\n",
       "      <td>15588</td>\n",
       "      <td>16319</td>\n",
       "    </tr>\n",
       "    <tr>\n",
       "      <th>1212</th>\n",
       "      <td>61</td>\n",
       "      <td>30</td>\n",
       "      <td>3</td>\n",
       "      <td>16546</td>\n",
       "      <td>17250</td>\n",
       "    </tr>\n",
       "    <tr>\n",
       "      <th>1213</th>\n",
       "      <td>61</td>\n",
       "      <td>30</td>\n",
       "      <td>2</td>\n",
       "      <td>17394</td>\n",
       "      <td>18097</td>\n",
       "    </tr>\n",
       "  </tbody>\n",
       "</table>\n",
       "<p>1214 rows × 5 columns</p>\n",
       "</div>"
      ],
      "text/plain": [
       "      exp  user  label  start    end\n",
       "0       1     1      5    250   1232\n",
       "1       1     1      7   1233   1392\n",
       "2       1     1      4   1393   2194\n",
       "3       1     1      8   2195   2359\n",
       "4       1     1      5   2360   3374\n",
       "...   ...   ...    ...    ...    ...\n",
       "1209   61    30      2  13842  14574\n",
       "1210   61    30      3  14751  15427\n",
       "1211   61    30      2  15588  16319\n",
       "1212   61    30      3  16546  17250\n",
       "1213   61    30      2  17394  18097\n",
       "\n",
       "[1214 rows x 5 columns]"
      ]
     },
     "execution_count": 3,
     "metadata": {},
     "output_type": "execute_result"
    }
   ],
   "source": [
    "col_names = ['exp', 'user', 'label', 'start', 'end']\n",
    "file_infos = pd.read_csv('RawData/labels.txt', sep=' ', header=None, names=col_names)\n",
    "file_infos"
   ]
  },
  {
   "cell_type": "markdown",
   "metadata": {},
   "source": [
    "# Splitt into Train and Test Data"
   ]
  },
  {
   "cell_type": "code",
   "execution_count": 4,
   "metadata": {},
   "outputs": [
    {
     "data": {
      "text/plain": [
       "(array([20, 10,  5, 25,  2, 16, 18, 29, 15, 21, 24, 26, 30,  6, 28,  4,  7,\n",
       "         1, 12, 23, 22], dtype=int64),\n",
       " array([17, 14, 19, 11,  9, 27,  8, 13,  3], dtype=int64))"
      ]
     },
     "execution_count": 4,
     "metadata": {},
     "output_type": "execute_result"
    }
   ],
   "source": [
    "train_size = 0.7\n",
    "users = file_infos['user'].unique()\n",
    "np.random.shuffle(users)\n",
    "train_users = users[:int(len(users)*0.7)]\n",
    "test_users = users[int(len(users)*0.7):]\n",
    "train_users, test_users"
   ]
  },
  {
   "cell_type": "code",
   "execution_count": 5,
   "metadata": {},
   "outputs": [
    {
     "data": {
      "text/plain": [
       "'user10.txt'"
      ]
     },
     "execution_count": 5,
     "metadata": {},
     "output_type": "execute_result"
    }
   ],
   "source": [
    "rawdata = 'RawData'\n",
    "file_name = os.listdir(rawdata)[19]\n",
    "file_name.split('_')[-1]"
   ]
  },
  {
   "cell_type": "code",
   "execution_count": 6,
   "metadata": {},
   "outputs": [
    {
     "data": {
      "text/plain": [
       "True"
      ]
     },
     "execution_count": 6,
     "metadata": {},
     "output_type": "execute_result"
    }
   ],
   "source": [
    "file_name.endswith(f'user{10}.txt') or file_name.endswith(f'user0{10}.txt')"
   ]
  },
  {
   "cell_type": "code",
   "execution_count": 7,
   "metadata": {},
   "outputs": [
    {
     "data": {
      "text/plain": [
       "['acc_exp01_user01.txt',\n",
       " 'acc_exp02_user01.txt',\n",
       " 'acc_exp03_user02.txt',\n",
       " 'acc_exp04_user02.txt',\n",
       " 'acc_exp05_user03.txt',\n",
       " 'acc_exp06_user03.txt',\n",
       " 'acc_exp07_user04.txt',\n",
       " 'acc_exp08_user04.txt',\n",
       " 'acc_exp09_user05.txt',\n",
       " 'acc_exp10_user05.txt',\n",
       " 'acc_exp11_user06.txt',\n",
       " 'acc_exp12_user06.txt',\n",
       " 'acc_exp13_user07.txt',\n",
       " 'acc_exp14_user07.txt',\n",
       " 'acc_exp15_user08.txt',\n",
       " 'acc_exp16_user08.txt',\n",
       " 'acc_exp17_user09.txt',\n",
       " 'acc_exp18_user09.txt',\n",
       " 'acc_exp19_user10.txt',\n",
       " 'acc_exp20_user10.txt',\n",
       " 'acc_exp21_user10.txt',\n",
       " 'acc_exp22_user11.txt',\n",
       " 'acc_exp23_user11.txt',\n",
       " 'acc_exp24_user12.txt',\n",
       " 'acc_exp25_user12.txt',\n",
       " 'acc_exp26_user13.txt',\n",
       " 'acc_exp27_user13.txt',\n",
       " 'acc_exp28_user14.txt',\n",
       " 'acc_exp29_user14.txt',\n",
       " 'acc_exp30_user15.txt',\n",
       " 'acc_exp31_user15.txt',\n",
       " 'acc_exp32_user16.txt',\n",
       " 'acc_exp33_user16.txt',\n",
       " 'acc_exp34_user17.txt',\n",
       " 'acc_exp35_user17.txt',\n",
       " 'acc_exp36_user18.txt',\n",
       " 'acc_exp37_user18.txt',\n",
       " 'acc_exp38_user19.txt',\n",
       " 'acc_exp39_user19.txt',\n",
       " 'acc_exp40_user20.txt',\n",
       " 'acc_exp41_user20.txt',\n",
       " 'acc_exp42_user21.txt',\n",
       " 'acc_exp43_user21.txt',\n",
       " 'acc_exp44_user22.txt',\n",
       " 'acc_exp45_user22.txt',\n",
       " 'acc_exp46_user23.txt',\n",
       " 'acc_exp47_user23.txt',\n",
       " 'acc_exp48_user24.txt',\n",
       " 'acc_exp49_user24.txt',\n",
       " 'acc_exp50_user25.txt',\n",
       " 'acc_exp51_user25.txt',\n",
       " 'acc_exp52_user26.txt',\n",
       " 'acc_exp53_user26.txt',\n",
       " 'acc_exp54_user27.txt',\n",
       " 'acc_exp55_user27.txt',\n",
       " 'acc_exp56_user28.txt',\n",
       " 'acc_exp57_user28.txt',\n",
       " 'acc_exp58_user29.txt',\n",
       " 'acc_exp59_user29.txt',\n",
       " 'acc_exp60_user30.txt',\n",
       " 'acc_exp61_user30.txt',\n",
       " 'gyro_exp01_user01.txt',\n",
       " 'gyro_exp02_user01.txt',\n",
       " 'gyro_exp03_user02.txt',\n",
       " 'gyro_exp04_user02.txt',\n",
       " 'gyro_exp05_user03.txt',\n",
       " 'gyro_exp06_user03.txt',\n",
       " 'gyro_exp07_user04.txt',\n",
       " 'gyro_exp08_user04.txt',\n",
       " 'gyro_exp09_user05.txt',\n",
       " 'gyro_exp10_user05.txt',\n",
       " 'gyro_exp11_user06.txt',\n",
       " 'gyro_exp12_user06.txt',\n",
       " 'gyro_exp13_user07.txt',\n",
       " 'gyro_exp14_user07.txt',\n",
       " 'gyro_exp15_user08.txt',\n",
       " 'gyro_exp16_user08.txt',\n",
       " 'gyro_exp17_user09.txt',\n",
       " 'gyro_exp18_user09.txt',\n",
       " 'gyro_exp19_user10.txt',\n",
       " 'gyro_exp20_user10.txt',\n",
       " 'gyro_exp21_user10.txt',\n",
       " 'gyro_exp22_user11.txt',\n",
       " 'gyro_exp23_user11.txt',\n",
       " 'gyro_exp24_user12.txt',\n",
       " 'gyro_exp25_user12.txt',\n",
       " 'gyro_exp26_user13.txt',\n",
       " 'gyro_exp27_user13.txt',\n",
       " 'gyro_exp28_user14.txt',\n",
       " 'gyro_exp29_user14.txt',\n",
       " 'gyro_exp30_user15.txt',\n",
       " 'gyro_exp31_user15.txt',\n",
       " 'gyro_exp32_user16.txt',\n",
       " 'gyro_exp33_user16.txt',\n",
       " 'gyro_exp34_user17.txt',\n",
       " 'gyro_exp35_user17.txt',\n",
       " 'gyro_exp36_user18.txt',\n",
       " 'gyro_exp37_user18.txt',\n",
       " 'gyro_exp38_user19.txt',\n",
       " 'gyro_exp39_user19.txt',\n",
       " 'gyro_exp40_user20.txt',\n",
       " 'gyro_exp41_user20.txt',\n",
       " 'gyro_exp42_user21.txt',\n",
       " 'gyro_exp43_user21.txt',\n",
       " 'gyro_exp44_user22.txt',\n",
       " 'gyro_exp45_user22.txt',\n",
       " 'gyro_exp46_user23.txt',\n",
       " 'gyro_exp47_user23.txt',\n",
       " 'gyro_exp48_user24.txt',\n",
       " 'gyro_exp49_user24.txt',\n",
       " 'gyro_exp50_user25.txt',\n",
       " 'gyro_exp51_user25.txt',\n",
       " 'gyro_exp52_user26.txt',\n",
       " 'gyro_exp53_user26.txt',\n",
       " 'gyro_exp54_user27.txt',\n",
       " 'gyro_exp55_user27.txt',\n",
       " 'gyro_exp56_user28.txt',\n",
       " 'gyro_exp57_user28.txt',\n",
       " 'gyro_exp58_user29.txt',\n",
       " 'gyro_exp59_user29.txt',\n",
       " 'gyro_exp60_user30.txt',\n",
       " 'gyro_exp61_user30.txt',\n",
       " 'labels.txt']"
      ]
     },
     "execution_count": 7,
     "metadata": {},
     "output_type": "execute_result"
    }
   ],
   "source": [
    "os.listdir('RawData')"
   ]
  },
  {
   "cell_type": "markdown",
   "metadata": {},
   "source": [
    "Sample Data user 1"
   ]
  },
  {
   "cell_type": "code",
   "execution_count": 8,
   "metadata": {},
   "outputs": [
    {
     "data": {
      "text/html": [
       "<div>\n",
       "<style scoped>\n",
       "    .dataframe tbody tr th:only-of-type {\n",
       "        vertical-align: middle;\n",
       "    }\n",
       "\n",
       "    .dataframe tbody tr th {\n",
       "        vertical-align: top;\n",
       "    }\n",
       "\n",
       "    .dataframe thead th {\n",
       "        text-align: right;\n",
       "    }\n",
       "</style>\n",
       "<table border=\"1\" class=\"dataframe\">\n",
       "  <thead>\n",
       "    <tr style=\"text-align: right;\">\n",
       "      <th></th>\n",
       "      <th>exp</th>\n",
       "      <th>user</th>\n",
       "      <th>label</th>\n",
       "      <th>start</th>\n",
       "      <th>end</th>\n",
       "    </tr>\n",
       "  </thead>\n",
       "  <tbody>\n",
       "    <tr>\n",
       "      <th>0</th>\n",
       "      <td>1</td>\n",
       "      <td>1</td>\n",
       "      <td>5</td>\n",
       "      <td>250</td>\n",
       "      <td>1232</td>\n",
       "    </tr>\n",
       "    <tr>\n",
       "      <th>1</th>\n",
       "      <td>1</td>\n",
       "      <td>1</td>\n",
       "      <td>7</td>\n",
       "      <td>1233</td>\n",
       "      <td>1392</td>\n",
       "    </tr>\n",
       "    <tr>\n",
       "      <th>2</th>\n",
       "      <td>1</td>\n",
       "      <td>1</td>\n",
       "      <td>4</td>\n",
       "      <td>1393</td>\n",
       "      <td>2194</td>\n",
       "    </tr>\n",
       "    <tr>\n",
       "      <th>3</th>\n",
       "      <td>1</td>\n",
       "      <td>1</td>\n",
       "      <td>8</td>\n",
       "      <td>2195</td>\n",
       "      <td>2359</td>\n",
       "    </tr>\n",
       "    <tr>\n",
       "      <th>4</th>\n",
       "      <td>1</td>\n",
       "      <td>1</td>\n",
       "      <td>5</td>\n",
       "      <td>2360</td>\n",
       "      <td>3374</td>\n",
       "    </tr>\n",
       "    <tr>\n",
       "      <th>...</th>\n",
       "      <td>...</td>\n",
       "      <td>...</td>\n",
       "      <td>...</td>\n",
       "      <td>...</td>\n",
       "      <td>...</td>\n",
       "    </tr>\n",
       "    <tr>\n",
       "      <th>1209</th>\n",
       "      <td>61</td>\n",
       "      <td>30</td>\n",
       "      <td>2</td>\n",
       "      <td>13842</td>\n",
       "      <td>14574</td>\n",
       "    </tr>\n",
       "    <tr>\n",
       "      <th>1210</th>\n",
       "      <td>61</td>\n",
       "      <td>30</td>\n",
       "      <td>3</td>\n",
       "      <td>14751</td>\n",
       "      <td>15427</td>\n",
       "    </tr>\n",
       "    <tr>\n",
       "      <th>1211</th>\n",
       "      <td>61</td>\n",
       "      <td>30</td>\n",
       "      <td>2</td>\n",
       "      <td>15588</td>\n",
       "      <td>16319</td>\n",
       "    </tr>\n",
       "    <tr>\n",
       "      <th>1212</th>\n",
       "      <td>61</td>\n",
       "      <td>30</td>\n",
       "      <td>3</td>\n",
       "      <td>16546</td>\n",
       "      <td>17250</td>\n",
       "    </tr>\n",
       "    <tr>\n",
       "      <th>1213</th>\n",
       "      <td>61</td>\n",
       "      <td>30</td>\n",
       "      <td>2</td>\n",
       "      <td>17394</td>\n",
       "      <td>18097</td>\n",
       "    </tr>\n",
       "  </tbody>\n",
       "</table>\n",
       "<p>1214 rows × 5 columns</p>\n",
       "</div>"
      ],
      "text/plain": [
       "      exp  user  label  start    end\n",
       "0       1     1      5    250   1232\n",
       "1       1     1      7   1233   1392\n",
       "2       1     1      4   1393   2194\n",
       "3       1     1      8   2195   2359\n",
       "4       1     1      5   2360   3374\n",
       "...   ...   ...    ...    ...    ...\n",
       "1209   61    30      2  13842  14574\n",
       "1210   61    30      3  14751  15427\n",
       "1211   61    30      2  15588  16319\n",
       "1212   61    30      3  16546  17250\n",
       "1213   61    30      2  17394  18097\n",
       "\n",
       "[1214 rows x 5 columns]"
      ]
     },
     "execution_count": 8,
     "metadata": {},
     "output_type": "execute_result"
    }
   ],
   "source": [
    "file_infos"
   ]
  },
  {
   "cell_type": "code",
   "execution_count": 9,
   "metadata": {},
   "outputs": [
    {
     "data": {
      "text/html": [
       "<div>\n",
       "<style scoped>\n",
       "    .dataframe tbody tr th:only-of-type {\n",
       "        vertical-align: middle;\n",
       "    }\n",
       "\n",
       "    .dataframe tbody tr th {\n",
       "        vertical-align: top;\n",
       "    }\n",
       "\n",
       "    .dataframe thead th {\n",
       "        text-align: right;\n",
       "    }\n",
       "</style>\n",
       "<table border=\"1\" class=\"dataframe\">\n",
       "  <thead>\n",
       "    <tr style=\"text-align: right;\">\n",
       "      <th></th>\n",
       "      <th>0</th>\n",
       "      <th>1</th>\n",
       "      <th>2</th>\n",
       "    </tr>\n",
       "  </thead>\n",
       "  <tbody>\n",
       "    <tr>\n",
       "      <th>0</th>\n",
       "      <td>0.918056</td>\n",
       "      <td>-0.112500</td>\n",
       "      <td>0.509722</td>\n",
       "    </tr>\n",
       "    <tr>\n",
       "      <th>1</th>\n",
       "      <td>0.911111</td>\n",
       "      <td>-0.093056</td>\n",
       "      <td>0.537500</td>\n",
       "    </tr>\n",
       "    <tr>\n",
       "      <th>2</th>\n",
       "      <td>0.881944</td>\n",
       "      <td>-0.086111</td>\n",
       "      <td>0.513889</td>\n",
       "    </tr>\n",
       "    <tr>\n",
       "      <th>3</th>\n",
       "      <td>0.881944</td>\n",
       "      <td>-0.086111</td>\n",
       "      <td>0.513889</td>\n",
       "    </tr>\n",
       "    <tr>\n",
       "      <th>4</th>\n",
       "      <td>0.879167</td>\n",
       "      <td>-0.100000</td>\n",
       "      <td>0.505556</td>\n",
       "    </tr>\n",
       "    <tr>\n",
       "      <th>...</th>\n",
       "      <td>...</td>\n",
       "      <td>...</td>\n",
       "      <td>...</td>\n",
       "    </tr>\n",
       "    <tr>\n",
       "      <th>20593</th>\n",
       "      <td>-0.069444</td>\n",
       "      <td>0.531944</td>\n",
       "      <td>0.806944</td>\n",
       "    </tr>\n",
       "    <tr>\n",
       "      <th>20594</th>\n",
       "      <td>-0.061111</td>\n",
       "      <td>0.519444</td>\n",
       "      <td>0.919444</td>\n",
       "    </tr>\n",
       "    <tr>\n",
       "      <th>20595</th>\n",
       "      <td>-0.051389</td>\n",
       "      <td>0.516667</td>\n",
       "      <td>0.956944</td>\n",
       "    </tr>\n",
       "    <tr>\n",
       "      <th>20596</th>\n",
       "      <td>-0.061111</td>\n",
       "      <td>0.525000</td>\n",
       "      <td>0.956944</td>\n",
       "    </tr>\n",
       "    <tr>\n",
       "      <th>20597</th>\n",
       "      <td>-0.048611</td>\n",
       "      <td>0.544444</td>\n",
       "      <td>0.947222</td>\n",
       "    </tr>\n",
       "  </tbody>\n",
       "</table>\n",
       "<p>20598 rows × 3 columns</p>\n",
       "</div>"
      ],
      "text/plain": [
       "              0         1         2\n",
       "0      0.918056 -0.112500  0.509722\n",
       "1      0.911111 -0.093056  0.537500\n",
       "2      0.881944 -0.086111  0.513889\n",
       "3      0.881944 -0.086111  0.513889\n",
       "4      0.879167 -0.100000  0.505556\n",
       "...         ...       ...       ...\n",
       "20593 -0.069444  0.531944  0.806944\n",
       "20594 -0.061111  0.519444  0.919444\n",
       "20595 -0.051389  0.516667  0.956944\n",
       "20596 -0.061111  0.525000  0.956944\n",
       "20597 -0.048611  0.544444  0.947222\n",
       "\n",
       "[20598 rows x 3 columns]"
      ]
     },
     "execution_count": 9,
     "metadata": {},
     "output_type": "execute_result"
    }
   ],
   "source": [
    "\n",
    "file_name = os.listdir('train')[0]\n",
    "user = pd.read_csv(os.path.join('train', file_name), header=None, sep= ' ')\n",
    "user"
   ]
  },
  {
   "cell_type": "code",
   "execution_count": 10,
   "metadata": {},
   "outputs": [
    {
     "data": {
      "text/html": [
       "<div>\n",
       "<style scoped>\n",
       "    .dataframe tbody tr th:only-of-type {\n",
       "        vertical-align: middle;\n",
       "    }\n",
       "\n",
       "    .dataframe tbody tr th {\n",
       "        vertical-align: top;\n",
       "    }\n",
       "\n",
       "    .dataframe thead th {\n",
       "        text-align: right;\n",
       "    }\n",
       "</style>\n",
       "<table border=\"1\" class=\"dataframe\">\n",
       "  <thead>\n",
       "    <tr style=\"text-align: right;\">\n",
       "      <th></th>\n",
       "      <th>exp</th>\n",
       "      <th>user</th>\n",
       "      <th>label</th>\n",
       "      <th>start</th>\n",
       "      <th>end</th>\n",
       "    </tr>\n",
       "  </thead>\n",
       "  <tbody>\n",
       "    <tr>\n",
       "      <th>0</th>\n",
       "      <td>1</td>\n",
       "      <td>1</td>\n",
       "      <td>5</td>\n",
       "      <td>250</td>\n",
       "      <td>1232</td>\n",
       "    </tr>\n",
       "    <tr>\n",
       "      <th>1</th>\n",
       "      <td>1</td>\n",
       "      <td>1</td>\n",
       "      <td>7</td>\n",
       "      <td>1233</td>\n",
       "      <td>1392</td>\n",
       "    </tr>\n",
       "    <tr>\n",
       "      <th>2</th>\n",
       "      <td>1</td>\n",
       "      <td>1</td>\n",
       "      <td>4</td>\n",
       "      <td>1393</td>\n",
       "      <td>2194</td>\n",
       "    </tr>\n",
       "    <tr>\n",
       "      <th>3</th>\n",
       "      <td>1</td>\n",
       "      <td>1</td>\n",
       "      <td>8</td>\n",
       "      <td>2195</td>\n",
       "      <td>2359</td>\n",
       "    </tr>\n",
       "    <tr>\n",
       "      <th>4</th>\n",
       "      <td>1</td>\n",
       "      <td>1</td>\n",
       "      <td>5</td>\n",
       "      <td>2360</td>\n",
       "      <td>3374</td>\n",
       "    </tr>\n",
       "  </tbody>\n",
       "</table>\n",
       "</div>"
      ],
      "text/plain": [
       "   exp  user  label  start   end\n",
       "0    1     1      5    250  1232\n",
       "1    1     1      7   1233  1392\n",
       "2    1     1      4   1393  2194\n",
       "3    1     1      8   2195  2359\n",
       "4    1     1      5   2360  3374"
      ]
     },
     "execution_count": 10,
     "metadata": {},
     "output_type": "execute_result"
    }
   ],
   "source": [
    "exp1_user1 = file_infos[(file_infos['user'] == 1 ) & (file_infos['exp'] == 1)]\n",
    "exp1_user1.head()"
   ]
  },
  {
   "cell_type": "code",
   "execution_count": 11,
   "metadata": {},
   "outputs": [],
   "source": [
    "sequences = []\n",
    "labels = []\n",
    "for start, end, label in zip(exp1_user1['start'], exp1_user1['end'], exp1_user1['label']):\n",
    "    seq = user.iloc[start-1 : end - 1]\n",
    "    sequences.append(seq)\n",
    "    labels.append(label)"
   ]
  },
  {
   "cell_type": "code",
   "execution_count": 12,
   "metadata": {},
   "outputs": [
    {
     "data": {
      "text/plain": [
       "22"
      ]
     },
     "execution_count": 12,
     "metadata": {},
     "output_type": "execute_result"
    }
   ],
   "source": [
    "len(labels)"
   ]
  },
  {
   "cell_type": "markdown",
   "metadata": {},
   "source": [
    "extracting info from files"
   ]
  },
  {
   "cell_type": "code",
   "execution_count": 13,
   "metadata": {},
   "outputs": [
    {
     "data": {
      "text/plain": [
       "1"
      ]
     },
     "execution_count": 13,
     "metadata": {},
     "output_type": "execute_result"
    }
   ],
   "source": [
    "file_name = os.listdir('train')[0]\n",
    "exp_id = int(file_name.split('_')[1][3:])\n",
    "user_id = int(file_name.split('_')[-1][4:6])\n",
    "user_id"
   ]
  },
  {
   "cell_type": "code",
   "execution_count": 14,
   "metadata": {},
   "outputs": [],
   "source": [
    "sequences_acc = []\n",
    "labels_acc = []\n",
    "for file in os.listdir('train'):\n",
    "    if file.startswith('acc'):\n",
    "        exp_id = int(file.split('_')[1][3:])\n",
    "        user_id = int(file.split('_')[-1][4:6])\n",
    "        data = pd.read_csv(os.path.join('train', file), header=None, sep= ' ')\n",
    "\n",
    "        exp_user = file_infos[(file_infos['user'] == user_id ) & (file_infos['exp'] == exp_id)]\n",
    "\n",
    "        for start, end, label in zip(exp_user['start'], exp_user['end'], exp_user['label']):\n",
    "            seq = user.iloc[start-1 : end - 1]\n",
    "            sequences_acc.append(seq.values)\n",
    "            labels_acc.append(label)\n",
    "\n",
    "\n",
    "\n",
    "sequences_gyro = []\n",
    "labels_gyro = []\n",
    "for file in os.listdir('train'):\n",
    "    if file.startswith('gyro'):\n",
    "        exp_id = int(file.split('_')[1][3:])\n",
    "        user_id = int(file.split('_')[-1][4:6])\n",
    "        data = pd.read_csv(os.path.join('train', file), header=None, sep= ' ')\n",
    "\n",
    "        exp_user = file_infos[(file_infos['user'] == user_id ) & (file_infos['exp'] == exp_id)]\n",
    "\n",
    "        for start, end, label in zip(exp_user['start'], exp_user['end'], exp_user['label']):\n",
    "            seq = user.iloc[start-1 : end - 1]\n",
    "            sequences_gyro.append(seq.values)\n",
    "            labels_gyro.append(label)"
   ]
  },
  {
   "cell_type": "code",
   "execution_count": 15,
   "metadata": {},
   "outputs": [
    {
     "data": {
      "text/plain": [
       "((982, 3), (982, 3))"
      ]
     },
     "execution_count": 15,
     "metadata": {},
     "output_type": "execute_result"
    }
   ],
   "source": [
    "sequences_acc[0].shape, sequences_gyro[0].shape"
   ]
  },
  {
   "cell_type": "code",
   "execution_count": 29,
   "metadata": {},
   "outputs": [
    {
     "name": "stdout",
     "output_type": "stream",
     "text": [
      "<class 'list'> <class 'list'>\n"
     ]
    }
   ],
   "source": [
    "print(type(sequences_acc), type(sequences_gyro))"
   ]
  },
  {
   "cell_type": "code",
   "execution_count": 30,
   "metadata": {},
   "outputs": [
    {
     "name": "stdout",
     "output_type": "stream",
     "text": [
      "<class 'numpy.ndarray'> <class 'numpy.ndarray'>\n"
     ]
    },
    {
     "name": "stderr",
     "output_type": "stream",
     "text": [
      "C:\\Users\\Abubakr\\AppData\\Local\\Temp\\ipykernel_6696\\1897726417.py:1: VisibleDeprecationWarning: Creating an ndarray from ragged nested sequences (which is a list-or-tuple of lists-or-tuples-or ndarrays with different lengths or shapes) is deprecated. If you meant to do this, you must specify 'dtype=object' when creating the ndarray.\n",
      "  sequences_acc=np.array(sequences_acc)\n"
     ]
    }
   ],
   "source": [
    "sequences_acc=np.array(sequences_acc)\n",
    "sequences_gyro=np.array(sequences_acc)\n",
    "print(type(sequences_acc), type(sequences_gyro))"
   ]
  },
  {
   "cell_type": "code",
   "execution_count": 31,
   "metadata": {},
   "outputs": [],
   "source": [
    "x_train = []\n",
    "for acc, gyro in zip(sequences_acc, sequences_gyro):\n",
    "    # print(acc.shape)\n",
    "    # print(gyro.shape)\n",
    "    x_train.append(np.concatenate((acc, gyro), axis=1))"
   ]
  },
  {
   "cell_type": "code",
   "execution_count": 32,
   "metadata": {},
   "outputs": [],
   "source": [
    "y_train = np.array(labels_acc)"
   ]
  },
  {
   "cell_type": "code",
   "execution_count": 33,
   "metadata": {},
   "outputs": [
    {
     "data": {
      "text/plain": [
       "(982, 6)"
      ]
     },
     "execution_count": 33,
     "metadata": {},
     "output_type": "execute_result"
    }
   ],
   "source": [
    "x_train[0].shape"
   ]
  },
  {
   "cell_type": "code",
   "execution_count": 34,
   "metadata": {},
   "outputs": [
    {
     "data": {
      "text/plain": [
       "853"
      ]
     },
     "execution_count": 34,
     "metadata": {},
     "output_type": "execute_result"
    }
   ],
   "source": [
    "len(x_train)"
   ]
  },
  {
   "cell_type": "code",
   "execution_count": 35,
   "metadata": {},
   "outputs": [
    {
     "data": {
      "text/plain": [
       "853"
      ]
     },
     "execution_count": 35,
     "metadata": {},
     "output_type": "execute_result"
    }
   ],
   "source": [
    "len(labels_acc)"
   ]
  },
  {
   "cell_type": "code",
   "execution_count": 38,
   "metadata": {},
   "outputs": [
    {
     "ename": "ValueError",
     "evalue": "setting an array element with a sequence.",
     "output_type": "error",
     "traceback": [
      "\u001b[1;31m---------------------------------------------------------------------------\u001b[0m",
      "\u001b[1;31mTypeError\u001b[0m                                 Traceback (most recent call last)",
      "\u001b[1;31mTypeError\u001b[0m: only size-1 arrays can be converted to Python scalars",
      "\nThe above exception was the direct cause of the following exception:\n",
      "\u001b[1;31mValueError\u001b[0m                                Traceback (most recent call last)",
      "\u001b[1;32mc:\\Users\\Abubakr\\Documents\\GitHub\\Activities-and-Postural-Transitions\\dataset\\exp.ipynb Cell 26'\u001b[0m in \u001b[0;36m<cell line: 1>\u001b[1;34m()\u001b[0m\n\u001b[1;32m----> <a href='vscode-notebook-cell:/c%3A/Users/Abubakr/Documents/GitHub/Activities-and-Postural-Transitions/dataset/exp.ipynb#ch0000027?line=0'>1</a>\u001b[0m x_train\u001b[39m=\u001b[39mnp\u001b[39m.\u001b[39;49marray(x_train, dtype\u001b[39m=\u001b[39;49m\u001b[39m'\u001b[39;49m\u001b[39mfloat\u001b[39;49m\u001b[39m'\u001b[39;49m)\n",
      "\u001b[1;31mValueError\u001b[0m: setting an array element with a sequence."
     ]
    }
   ],
   "source": [
    "x_train=np.array(x_train, dtype='float')\n",
    "#x_train=x_train.astype('float')"
   ]
  },
  {
   "cell_type": "code",
   "execution_count": 48,
   "metadata": {},
   "outputs": [
    {
     "name": "stdout",
     "output_type": "stream",
     "text": [
      "torch.Size([1, 982, 6])\n"
     ]
    },
    {
     "name": "stderr",
     "output_type": "stream",
     "text": [
      "C:\\Users\\Abubakr\\AppData\\Local\\Temp\\ipykernel_6696\\3992985939.py:26: UserWarning: Implicit dimension choice for softmax has been deprecated. Change the call to include dim=X as an argument.\n",
      "  out=F.softmax(self.fc(x))\n"
     ]
    },
    {
     "data": {
      "text/plain": [
       "torch.Size([12])"
      ]
     },
     "execution_count": 48,
     "metadata": {},
     "output_type": "execute_result"
    }
   ],
   "source": [
    "import torch\n",
    "import torch.nn as nn\n",
    "import torch.nn.functional as F\n",
    "torch.manual_seed(0)\n",
    "\n",
    "class LSTM(nn.Module):\n",
    "    def __init__(self, input_size, hidden_size, num_layers, num_classes):\n",
    "        super().__init__()\n",
    "        self.num_layer =num_layers\n",
    "        self.hidden_size = hidden_size\n",
    "        self.num_classes=num_classes\n",
    "        self.lstm = nn.LSTM(input_size, hidden_size, num_layers, batch_first=True)\n",
    "\n",
    "        #self.fc1 = nn.Linear(self.batch_size*self.hidden_size)\n",
    "        #self.fc2 = nn.Linear( self.batch_size*self.seq_len)\n",
    "        self.fc = nn.Linear(self.hidden_size, self.num_classes)\n",
    "\n",
    "    def forward(self,x):\n",
    "        h_0 = torch.zeros((self.num_layer, x.shape[0], self.hidden_size))\n",
    "        c_0 = torch.zeros((self.num_layer, x.shape[0], self.hidden_size))\n",
    "        \n",
    "        lstm_out, (h_n, c_0 )= self.lstm(x,(h_0, c_0))\n",
    "        last_hidden = h_n[-1]\n",
    "\n",
    "        x = F.relu(last_hidden.flatten())\n",
    "        out=F.softmax(self.fc(x))\n",
    "        #x = F.relu(self.fc1(x))\n",
    "        #out = self.fc2(x)\n",
    "        \n",
    "        return out\n",
    "    \n",
    "model = LSTM(input_size=6, hidden_size=5, num_layers=2, num_classes=12)\n",
    "\n",
    "x=x_train[0]\n",
    "x=torch.from_numpy(x).float().unsqueeze(0)\n",
    "print(x.shape)\n",
    "\n",
    "model(x).shape"
   ]
  },
  {
   "cell_type": "code",
   "execution_count": null,
   "metadata": {},
   "outputs": [],
   "source": []
  }
 ],
 "metadata": {
  "kernelspec": {
   "display_name": "Python 3.10.4 ('dl')",
   "language": "python",
   "name": "python3"
  },
  "language_info": {
   "codemirror_mode": {
    "name": "ipython",
    "version": 3
   },
   "file_extension": ".py",
   "mimetype": "text/x-python",
   "name": "python",
   "nbconvert_exporter": "python",
   "pygments_lexer": "ipython3",
   "version": "3.10.4"
  },
  "orig_nbformat": 4,
  "vscode": {
   "interpreter": {
    "hash": "c783155fdf7cc6e25183d446515f6b6ba379df7b28dd698d21634d1b4d5e58fd"
   }
  }
 },
 "nbformat": 4,
 "nbformat_minor": 2
}
